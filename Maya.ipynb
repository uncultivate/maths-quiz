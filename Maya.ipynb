{
 "cells": [
  {
   "cell_type": "markdown",
   "id": "11b9af96-258c-42e5-8e82-ea090b9fa3b3",
   "metadata": {
    "tags": [],
    "toc-hr-collapsed": true
   },
   "source": [
    "# Maya's first program"
   ]
  },
  {
   "cell_type": "code",
   "execution_count": null,
   "id": "a4386310-5c11-40ca-912d-5000cd779617",
   "metadata": {},
   "outputs": [],
   "source": [
    "print(\"Hello, World!\")\n",
    "person = input(\"What's your name?\")\n",
    "print(\"Hello,\", person)"
   ]
  },
  {
   "cell_type": "markdown",
   "id": "0f0ccaf9-107a-43fc-b351-1327b345f1a7",
   "metadata": {},
   "source": [
    "number = 6"
   ]
  },
  {
   "cell_type": "markdown",
   "id": "29af497b-2cf8-4ee3-b00c-75360119ceda",
   "metadata": {},
   "source": [
    "## Integers"
   ]
  },
  {
   "cell_type": "code",
   "execution_count": 11,
   "id": "960b9253-9805-49cb-b76e-660c4b9d2559",
   "metadata": {},
   "outputs": [],
   "source": [
    "x = 1\n",
    "y = 2"
   ]
  },
  {
   "cell_type": "code",
   "execution_count": 12,
   "id": "b3128b18-9eea-43ba-9eb5-f9a4e582fb97",
   "metadata": {},
   "outputs": [
    {
     "data": {
      "text/plain": [
       "False"
      ]
     },
     "execution_count": 12,
     "metadata": {},
     "output_type": "execute_result"
    }
   ],
   "source": [
    "x + y == 15"
   ]
  },
  {
   "cell_type": "code",
   "execution_count": 15,
   "id": "f40fda8b-9826-471e-9ec5-ac2c4b9378c4",
   "metadata": {},
   "outputs": [
    {
     "data": {
      "text/plain": [
       "0"
      ]
     },
     "execution_count": 15,
     "metadata": {},
     "output_type": "execute_result"
    }
   ],
   "source": [
    "y - x - x"
   ]
  },
  {
   "cell_type": "markdown",
   "id": "ff50dc87-8c78-4175-89d4-89db3e8184cf",
   "metadata": {},
   "source": [
    "## Strings"
   ]
  },
  {
   "cell_type": "code",
   "execution_count": 20,
   "id": "6dc48cc9-158d-40ba-9653-065eb4fbfeed",
   "metadata": {},
   "outputs": [],
   "source": [
    "name = \"Maya\""
   ]
  },
  {
   "cell_type": "code",
   "execution_count": 18,
   "id": "7dce0ebf-fd91-4ef0-9938-1c9b60396886",
   "metadata": {},
   "outputs": [
    {
     "name": "stdout",
     "output_type": "stream",
     "text": [
      "maya\n"
     ]
    }
   ],
   "source": [
    "print(name)"
   ]
  },
  {
   "cell_type": "code",
   "execution_count": 19,
   "id": "1a7e6e09-93ee-41a3-b312-5aaa4ab777ba",
   "metadata": {},
   "outputs": [],
   "source": [
    "greeting = \"Welcome to Earth, \""
   ]
  },
  {
   "cell_type": "code",
   "execution_count": 21,
   "id": "2433e739-41a2-446e-8542-7564f1773b23",
   "metadata": {},
   "outputs": [
    {
     "data": {
      "text/plain": [
       "'Welcome to Earth, Maya'"
      ]
     },
     "execution_count": 21,
     "metadata": {},
     "output_type": "execute_result"
    }
   ],
   "source": [
    "greeting + name"
   ]
  },
  {
   "cell_type": "code",
   "execution_count": 22,
   "id": "4c5e2a49-b66d-4c52-9c83-09842de02635",
   "metadata": {},
   "outputs": [
    {
     "data": {
      "text/plain": [
       "4"
      ]
     },
     "execution_count": 22,
     "metadata": {},
     "output_type": "execute_result"
    }
   ],
   "source": [
    "len(name)"
   ]
  },
  {
   "cell_type": "code",
   "execution_count": 23,
   "id": "63721f0d-cfaf-4429-8ed9-352fa7a00922",
   "metadata": {},
   "outputs": [
    {
     "data": {
      "text/plain": [
       "18"
      ]
     },
     "execution_count": 23,
     "metadata": {},
     "output_type": "execute_result"
    }
   ],
   "source": [
    "len(greeting)"
   ]
  },
  {
   "cell_type": "markdown",
   "id": "f129e49c-4d6f-4c1f-a469-583d1f573369",
   "metadata": {},
   "source": [
    "## Lists"
   ]
  },
  {
   "cell_type": "code",
   "execution_count": 27,
   "id": "679f7b27-324d-4c1d-82ea-61ca0f4fd86b",
   "metadata": {},
   "outputs": [],
   "source": [
    "shopping_list = [\"apple\", \"banana\", \"pear\", \"milk\", \"bread\", \"eggs\"]"
   ]
  },
  {
   "cell_type": "code",
   "execution_count": 28,
   "id": "9417fb9c-6204-4345-a6fe-68dbb7c3cbe8",
   "metadata": {},
   "outputs": [
    {
     "name": "stdout",
     "output_type": "stream",
     "text": [
      "['apple', 'banana', 'pear', 'milk', 'bread', 'eggs']\n"
     ]
    }
   ],
   "source": [
    "print(shopping_list)"
   ]
  },
  {
   "cell_type": "code",
   "execution_count": 29,
   "id": "a2b63821-38bb-497d-b00e-d3dfb9a20dde",
   "metadata": {},
   "outputs": [
    {
     "data": {
      "text/plain": [
       "6"
      ]
     },
     "execution_count": 29,
     "metadata": {},
     "output_type": "execute_result"
    }
   ],
   "source": [
    "len(shopping_list)"
   ]
  },
  {
   "cell_type": "code",
   "execution_count": 33,
   "id": "0958bfa9-bd9e-4725-9cfa-724b52c454e1",
   "metadata": {},
   "outputs": [
    {
     "data": {
      "text/plain": [
       "'pear'"
      ]
     },
     "execution_count": 33,
     "metadata": {},
     "output_type": "execute_result"
    }
   ],
   "source": [
    "shopping_list[2]"
   ]
  },
  {
   "cell_type": "code",
   "execution_count": 34,
   "id": "0f0ec5e5-b1c9-493e-8a46-9ccc3097a98b",
   "metadata": {},
   "outputs": [],
   "source": [
    "family_members = [\"Mummy\", \"Daddy\", \"Daisy\", \"Maya\", \"Tyche\"]"
   ]
  },
  {
   "cell_type": "code",
   "execution_count": 35,
   "id": "0efb83c6-d74e-4044-b276-7c00fe2f62a7",
   "metadata": {},
   "outputs": [
    {
     "data": {
      "text/plain": [
       "5"
      ]
     },
     "execution_count": 35,
     "metadata": {},
     "output_type": "execute_result"
    }
   ],
   "source": [
    "len(family_members)"
   ]
  },
  {
   "cell_type": "code",
   "execution_count": 37,
   "id": "60417c80-039e-4154-bc14-c7c160519918",
   "metadata": {},
   "outputs": [
    {
     "data": {
      "text/plain": [
       "['Daisy', 'Maya']"
      ]
     },
     "execution_count": 37,
     "metadata": {},
     "output_type": "execute_result"
    }
   ],
   "source": [
    "family_members[2:4]"
   ]
  },
  {
   "cell_type": "code",
   "execution_count": 8,
   "id": "028ab385-d234-4452-ba32-d53849e6e482",
   "metadata": {},
   "outputs": [],
   "source": [
    "age = 36"
   ]
  },
  {
   "cell_type": "code",
   "execution_count": 9,
   "id": "3f46b6ff-0328-4ebf-a2b1-b27aeb6ff60b",
   "metadata": {},
   "outputs": [
    {
     "name": "stdout",
     "output_type": "stream",
     "text": [
      "Maya and Daisy are not 36\n"
     ]
    }
   ],
   "source": [
    "if age == 5:\n",
    "    print(f\"Maya is {age}\")\n",
    "elif age == 4:\n",
    "    print(f\"Daisy is {age}\")\n",
    "else:\n",
    "    print(f\"Maya and Daisy are not {age}\")"
   ]
  },
  {
   "cell_type": "markdown",
   "id": "23cf7395-6271-4585-8652-52412cc521d6",
   "metadata": {},
   "source": [
    "## Booleans"
   ]
  },
  {
   "cell_type": "code",
   "execution_count": 11,
   "id": "5a7ef82b-0c9e-47d7-af8b-88226f935576",
   "metadata": {},
   "outputs": [],
   "source": [
    "pineapples = 5\n",
    "zebras = 2"
   ]
  },
  {
   "cell_type": "code",
   "execution_count": 12,
   "id": "9a2680ff-e47d-4d6e-adfe-379afe6f79b8",
   "metadata": {},
   "outputs": [
    {
     "data": {
      "text/plain": [
       "True"
      ]
     },
     "execution_count": 12,
     "metadata": {},
     "output_type": "execute_result"
    }
   ],
   "source": [
    "pineapples > zebras"
   ]
  },
  {
   "cell_type": "code",
   "execution_count": 13,
   "id": "b13dc719-1990-4b38-859b-60f8f34c5f18",
   "metadata": {},
   "outputs": [
    {
     "data": {
      "text/plain": [
       "False"
      ]
     },
     "execution_count": 13,
     "metadata": {},
     "output_type": "execute_result"
    }
   ],
   "source": [
    "pineapples < zebras"
   ]
  },
  {
   "cell_type": "code",
   "execution_count": 14,
   "id": "beedc4d4-519f-42f6-ba0d-d76e70d7efc3",
   "metadata": {},
   "outputs": [
    {
     "data": {
      "text/plain": [
       "False"
      ]
     },
     "execution_count": 14,
     "metadata": {},
     "output_type": "execute_result"
    }
   ],
   "source": [
    "pineapples == zebras"
   ]
  },
  {
   "cell_type": "code",
   "execution_count": 15,
   "id": "35949ece-6e15-4243-a8bb-9ed7c99690ba",
   "metadata": {},
   "outputs": [
    {
     "data": {
      "text/plain": [
       "False"
      ]
     },
     "execution_count": 15,
     "metadata": {},
     "output_type": "execute_result"
    }
   ],
   "source": [
    "(pineapples == 1) and (zebras == 2)"
   ]
  },
  {
   "cell_type": "code",
   "execution_count": 16,
   "id": "5fef8aaf-7db9-4478-bf59-61dac6f7f354",
   "metadata": {},
   "outputs": [
    {
     "data": {
      "text/plain": [
       "True"
      ]
     },
     "execution_count": 16,
     "metadata": {},
     "output_type": "execute_result"
    }
   ],
   "source": [
    "(pineapples == 1) or (zebras == 2)"
   ]
  },
  {
   "cell_type": "markdown",
   "id": "6357477c-8463-491c-aed3-c1f1eee09299",
   "metadata": {},
   "source": [
    "## Rollercoaster\n"
   ]
  },
  {
   "cell_type": "code",
   "execution_count": 19,
   "id": "09441c55-7796-4341-9442-757548539639",
   "metadata": {},
   "outputs": [],
   "source": [
    "def rollercoaster(age, height):\n",
    "    if age >= 6 and height >= 119:\n",
    "        return \"You're allowed!\"\n",
    "    else:\n",
    "        return \"You're not allowed!\""
   ]
  },
  {
   "cell_type": "code",
   "execution_count": 28,
   "id": "460b05d5-479b-46b7-bd00-5e70d29d54b3",
   "metadata": {},
   "outputs": [
    {
     "data": {
      "text/plain": [
       "\"You're allowed!\""
      ]
     },
     "execution_count": 28,
     "metadata": {},
     "output_type": "execute_result"
    }
   ],
   "source": [
    "rollercoaster(36, 188)"
   ]
  },
  {
   "cell_type": "code",
   "execution_count": 24,
   "id": "157719cf-8209-43c7-9fa7-83bdb4596f96",
   "metadata": {},
   "outputs": [],
   "source": [
    "def little_kids_coaster(age, height):\n",
    "    if age < 5 and height < 110:\n",
    "        return \"You're allowed!\"\n",
    "    else:\n",
    "        return \"You're not allowed!\""
   ]
  },
  {
   "cell_type": "code",
   "execution_count": 27,
   "id": "2c4067c1-8edb-4bba-a577-827efda05972",
   "metadata": {},
   "outputs": [
    {
     "data": {
      "text/plain": [
       "\"You're not allowed!\""
      ]
     },
     "execution_count": 27,
     "metadata": {},
     "output_type": "execute_result"
    }
   ],
   "source": [
    "little_kids_coaster(36, 188)"
   ]
  },
  {
   "cell_type": "markdown",
   "id": "e9e8b910-910e-494d-b9c3-ab060f6f00dc",
   "metadata": {},
   "source": [
    "## Quiz"
   ]
  },
  {
   "cell_type": "code",
   "execution_count": null,
   "id": "c507e16a-947d-4f6b-9050-402f25ebbc86",
   "metadata": {},
   "outputs": [
    {
     "name": "stdout",
     "output_type": "stream",
     "text": [
      "Maya's Quiz - Addition\n",
      "~~~~~~~~~\n"
     ]
    }
   ],
   "source": [
    "import random as rand\n",
    "\n",
    "print(\"Maya's Quiz - Addition\")\n",
    "print(\"~~~~~~~~~\")\n",
    "try:\n",
    "    no_qs = int(input(\"How many questions would you like? \"))\n",
    "except:\n",
    "    no_qs = int(input(\"How many questions would you like? \"))\n",
    "score = 0\n",
    "difficulty = 0\n",
    "for x in range(no_qs):\n",
    "    rand1 = rand.randint(1,10 + difficulty)\n",
    "    rand2 = rand.randint(1,10 + difficulty)\n",
    "    q1 = input(f\" Q{x + 1}: What is {rand1} + {rand2}? \")\n",
    "    if int(q1) == rand1 + rand2:\n",
    "        print(\" Correct!\")\n",
    "        score += 1\n",
    "        difficulty += 5\n",
    "    else:\n",
    "        print(f\" That was incorrect. The answer was {rand1 + rand2}!\")\n",
    "        if difficulty > 5:\n",
    "            difficulty -= 1\n",
    "    \n",
    "print(\"~~~~~~~~~\")\n",
    "print(f\"You scored {score} out of {no_qs}!\")"
   ]
  },
  {
   "cell_type": "code",
   "execution_count": 16,
   "id": "ac9961a7-9a25-4d64-babc-c4b81dc38590",
   "metadata": {
    "tags": []
   },
   "outputs": [
    {
     "name": "stdout",
     "output_type": "stream",
     "text": [
      "Maya's Quiz - Subtraction\n",
      "~~~~~~~~~\n"
     ]
    },
    {
     "ename": "KeyboardInterrupt",
     "evalue": "Interrupted by user",
     "output_type": "error",
     "traceback": [
      "\u001b[1;31m---------------------------------------------------------------------------\u001b[0m",
      "\u001b[1;31mKeyboardInterrupt\u001b[0m                         Traceback (most recent call last)",
      "\u001b[1;32m~\\AppData\\Local\\Temp/ipykernel_11512/2884167109.py\u001b[0m in \u001b[0;36m<module>\u001b[1;34m\u001b[0m\n\u001b[0;32m      6\u001b[0m     \u001b[0mno_qs\u001b[0m \u001b[1;33m=\u001b[0m \u001b[0mint\u001b[0m\u001b[1;33m(\u001b[0m\u001b[0minput\u001b[0m\u001b[1;33m(\u001b[0m\u001b[1;34m\"How many questions would you like? \"\u001b[0m\u001b[1;33m)\u001b[0m\u001b[1;33m)\u001b[0m\u001b[1;33m\u001b[0m\u001b[1;33m\u001b[0m\u001b[0m\n\u001b[0;32m      7\u001b[0m \u001b[1;32mexcept\u001b[0m\u001b[1;33m:\u001b[0m\u001b[1;33m\u001b[0m\u001b[1;33m\u001b[0m\u001b[0m\n\u001b[1;32m----> 8\u001b[1;33m     \u001b[0mno_qs\u001b[0m \u001b[1;33m=\u001b[0m \u001b[0mint\u001b[0m\u001b[1;33m(\u001b[0m\u001b[0minput\u001b[0m\u001b[1;33m(\u001b[0m\u001b[1;34m\"How many questions would you like? \"\u001b[0m\u001b[1;33m)\u001b[0m\u001b[1;33m)\u001b[0m\u001b[1;33m\u001b[0m\u001b[1;33m\u001b[0m\u001b[0m\n\u001b[0m\u001b[0;32m      9\u001b[0m \u001b[0mscore\u001b[0m \u001b[1;33m=\u001b[0m \u001b[1;36m0\u001b[0m\u001b[1;33m\u001b[0m\u001b[1;33m\u001b[0m\u001b[0m\n\u001b[0;32m     10\u001b[0m \u001b[0mdifficulty\u001b[0m \u001b[1;33m=\u001b[0m \u001b[1;36m0\u001b[0m\u001b[1;33m\u001b[0m\u001b[1;33m\u001b[0m\u001b[0m\n",
      "\u001b[1;32m~\\anaconda3\\lib\\site-packages\\ipykernel\\kernelbase.py\u001b[0m in \u001b[0;36mraw_input\u001b[1;34m(self, prompt)\u001b[0m\n\u001b[0;32m   1004\u001b[0m                 \u001b[1;34m\"raw_input was called, but this frontend does not support input requests.\"\u001b[0m\u001b[1;33m\u001b[0m\u001b[1;33m\u001b[0m\u001b[0m\n\u001b[0;32m   1005\u001b[0m             )\n\u001b[1;32m-> 1006\u001b[1;33m         return self._input_request(\n\u001b[0m\u001b[0;32m   1007\u001b[0m             \u001b[0mstr\u001b[0m\u001b[1;33m(\u001b[0m\u001b[0mprompt\u001b[0m\u001b[1;33m)\u001b[0m\u001b[1;33m,\u001b[0m\u001b[1;33m\u001b[0m\u001b[1;33m\u001b[0m\u001b[0m\n\u001b[0;32m   1008\u001b[0m             \u001b[0mself\u001b[0m\u001b[1;33m.\u001b[0m\u001b[0m_parent_ident\u001b[0m\u001b[1;33m[\u001b[0m\u001b[1;34m\"shell\"\u001b[0m\u001b[1;33m]\u001b[0m\u001b[1;33m,\u001b[0m\u001b[1;33m\u001b[0m\u001b[1;33m\u001b[0m\u001b[0m\n",
      "\u001b[1;32m~\\anaconda3\\lib\\site-packages\\ipykernel\\kernelbase.py\u001b[0m in \u001b[0;36m_input_request\u001b[1;34m(self, prompt, ident, parent, password)\u001b[0m\n\u001b[0;32m   1049\u001b[0m             \u001b[1;32mexcept\u001b[0m \u001b[0mKeyboardInterrupt\u001b[0m\u001b[1;33m:\u001b[0m\u001b[1;33m\u001b[0m\u001b[1;33m\u001b[0m\u001b[0m\n\u001b[0;32m   1050\u001b[0m                 \u001b[1;31m# re-raise KeyboardInterrupt, to truncate traceback\u001b[0m\u001b[1;33m\u001b[0m\u001b[1;33m\u001b[0m\u001b[0m\n\u001b[1;32m-> 1051\u001b[1;33m                 \u001b[1;32mraise\u001b[0m \u001b[0mKeyboardInterrupt\u001b[0m\u001b[1;33m(\u001b[0m\u001b[1;34m\"Interrupted by user\"\u001b[0m\u001b[1;33m)\u001b[0m \u001b[1;32mfrom\u001b[0m \u001b[1;32mNone\u001b[0m\u001b[1;33m\u001b[0m\u001b[1;33m\u001b[0m\u001b[0m\n\u001b[0m\u001b[0;32m   1052\u001b[0m             \u001b[1;32mexcept\u001b[0m \u001b[0mException\u001b[0m\u001b[1;33m:\u001b[0m\u001b[1;33m\u001b[0m\u001b[1;33m\u001b[0m\u001b[0m\n\u001b[0;32m   1053\u001b[0m                 \u001b[0mself\u001b[0m\u001b[1;33m.\u001b[0m\u001b[0mlog\u001b[0m\u001b[1;33m.\u001b[0m\u001b[0mwarning\u001b[0m\u001b[1;33m(\u001b[0m\u001b[1;34m\"Invalid Message:\"\u001b[0m\u001b[1;33m,\u001b[0m \u001b[0mexc_info\u001b[0m\u001b[1;33m=\u001b[0m\u001b[1;32mTrue\u001b[0m\u001b[1;33m)\u001b[0m\u001b[1;33m\u001b[0m\u001b[1;33m\u001b[0m\u001b[0m\n",
      "\u001b[1;31mKeyboardInterrupt\u001b[0m: Interrupted by user"
     ]
    }
   ],
   "source": [
    "import random as rand\n",
    "\n",
    "print(\"Maya's Quiz - Subtraction\")\n",
    "print(\"~~~~~~~~~\")\n",
    "try:\n",
    "    no_qs = int(input(\"How many questions would you like? \"))\n",
    "except:\n",
    "    no_qs = int(input(\"How many questions would you like? \"))\n",
    "score = 0\n",
    "difficulty = 0\n",
    "for x in range(no_qs):\n",
    "    rand1 = rand.randint(1,10 + difficulty)\n",
    "    rand2 = rand1 + rand.randint(0,10 + difficulty)\n",
    "    q1 = input(f\" Q{x + 1}: What is {rand2} - {rand1}? \")\n",
    "    while q1.isdigit() == False:\n",
    "        q1 = input(f\" Q{x + 1}: What is {rand2} - {rand1}? \")\n",
    "\n",
    "    if int(q1) == rand2 - rand1:\n",
    "        print(\" Correct!\")\n",
    "        score += 1\n",
    "        difficulty += 5   \n",
    "    else:\n",
    "        print(f\" That was incorrect. The answer was {rand2 - rand1}!\")\n",
    "        if difficulty > 5:\n",
    "            difficulty -= 1\n",
    "    \n",
    "\n",
    "\n",
    "print(\"~~~~~~~~~\")\n",
    "print(f\"You scored {score} out of {no_qs}!\")"
   ]
  },
  {
   "cell_type": "code",
   "execution_count": 15,
   "id": "d35898c2-0bb4-4df1-8df0-b57dd8eb0e0e",
   "metadata": {
    "tags": []
   },
   "outputs": [
    {
     "name": "stdout",
     "output_type": "stream",
     "text": [
      "Maya's Quiz - Multiplication\n",
      "~~~~~~~~~\n"
     ]
    },
    {
     "name": "stdin",
     "output_type": "stream",
     "text": [
      "How many questions would you like?  10\n",
      "Q1: What is 5 x 7?  35\n"
     ]
    },
    {
     "name": "stdout",
     "output_type": "stream",
     "text": [
      " Correct!\n"
     ]
    },
    {
     "name": "stdin",
     "output_type": "stream",
     "text": [
      "Q2: What is 4 x 1?  4\n"
     ]
    },
    {
     "name": "stdout",
     "output_type": "stream",
     "text": [
      " Correct!\n"
     ]
    },
    {
     "name": "stdin",
     "output_type": "stream",
     "text": [
      "Q3: What is 10 x 1?  10\n"
     ]
    },
    {
     "name": "stdout",
     "output_type": "stream",
     "text": [
      " Correct!\n"
     ]
    },
    {
     "name": "stdin",
     "output_type": "stream",
     "text": [
      "Q4: What is 14 x 7?  98\n"
     ]
    },
    {
     "name": "stdout",
     "output_type": "stream",
     "text": [
      " Correct!\n"
     ]
    },
    {
     "name": "stdin",
     "output_type": "stream",
     "text": [
      "Q5: What is 6 x 10?  60\n"
     ]
    },
    {
     "name": "stdout",
     "output_type": "stream",
     "text": [
      " Correct!\n"
     ]
    },
    {
     "name": "stdin",
     "output_type": "stream",
     "text": [
      "Q6: What is 11 x 23?  253\n"
     ]
    },
    {
     "name": "stdout",
     "output_type": "stream",
     "text": [
      " Correct!\n"
     ]
    },
    {
     "name": "stdin",
     "output_type": "stream",
     "text": [
      "Q7: What is 32 x 36?  1152\n"
     ]
    },
    {
     "name": "stdout",
     "output_type": "stream",
     "text": [
      " Correct!\n"
     ]
    },
    {
     "name": "stdin",
     "output_type": "stream",
     "text": [
      "Q8: What is 3 x 31?  93\n"
     ]
    },
    {
     "name": "stdout",
     "output_type": "stream",
     "text": [
      " Correct!\n"
     ]
    },
    {
     "name": "stdin",
     "output_type": "stream",
     "text": [
      "Q9: What is 39 x 14?  529\n"
     ]
    },
    {
     "name": "stdout",
     "output_type": "stream",
     "text": [
      "That was incorrect. The answer was 546!\n",
      "There are 14 groups of 39\n",
      "# # # # # # # # # # # # # # # # # # # # # # # # # # # # # # # # # # # # # # # \n",
      "# # # # # # # # # # # # # # # # # # # # # # # # # # # # # # # # # # # # # # # \n",
      "# # # # # # # # # # # # # # # # # # # # # # # # # # # # # # # # # # # # # # # \n",
      "# # # # # # # # # # # # # # # # # # # # # # # # # # # # # # # # # # # # # # # \n",
      "# # # # # # # # # # # # # # # # # # # # # # # # # # # # # # # # # # # # # # # \n",
      "# # # # # # # # # # # # # # # # # # # # # # # # # # # # # # # # # # # # # # # \n",
      "# # # # # # # # # # # # # # # # # # # # # # # # # # # # # # # # # # # # # # # \n",
      "# # # # # # # # # # # # # # # # # # # # # # # # # # # # # # # # # # # # # # # \n",
      "# # # # # # # # # # # # # # # # # # # # # # # # # # # # # # # # # # # # # # # \n",
      "# # # # # # # # # # # # # # # # # # # # # # # # # # # # # # # # # # # # # # # \n",
      "# # # # # # # # # # # # # # # # # # # # # # # # # # # # # # # # # # # # # # # \n",
      "# # # # # # # # # # # # # # # # # # # # # # # # # # # # # # # # # # # # # # # \n",
      "# # # # # # # # # # # # # # # # # # # # # # # # # # # # # # # # # # # # # # # \n",
      "# # # # # # # # # # # # # # # # # # # # # # # # # # # # # # # # # # # # # # # \n"
     ]
    },
    {
     "name": "stdin",
     "output_type": "stream",
     "text": [
      "Q10: What is 31 x 36?  1136\n"
     ]
    },
    {
     "name": "stdout",
     "output_type": "stream",
     "text": [
      "That was incorrect. The answer was 1116!\n",
      "There are 36 groups of 31\n",
      "# # # # # # # # # # # # # # # # # # # # # # # # # # # # # # # \n",
      "# # # # # # # # # # # # # # # # # # # # # # # # # # # # # # # \n",
      "# # # # # # # # # # # # # # # # # # # # # # # # # # # # # # # \n",
      "# # # # # # # # # # # # # # # # # # # # # # # # # # # # # # # \n",
      "# # # # # # # # # # # # # # # # # # # # # # # # # # # # # # # \n",
      "# # # # # # # # # # # # # # # # # # # # # # # # # # # # # # # \n",
      "# # # # # # # # # # # # # # # # # # # # # # # # # # # # # # # \n",
      "# # # # # # # # # # # # # # # # # # # # # # # # # # # # # # # \n",
      "# # # # # # # # # # # # # # # # # # # # # # # # # # # # # # # \n",
      "# # # # # # # # # # # # # # # # # # # # # # # # # # # # # # # \n",
      "# # # # # # # # # # # # # # # # # # # # # # # # # # # # # # # \n",
      "# # # # # # # # # # # # # # # # # # # # # # # # # # # # # # # \n",
      "# # # # # # # # # # # # # # # # # # # # # # # # # # # # # # # \n",
      "# # # # # # # # # # # # # # # # # # # # # # # # # # # # # # # \n",
      "# # # # # # # # # # # # # # # # # # # # # # # # # # # # # # # \n",
      "# # # # # # # # # # # # # # # # # # # # # # # # # # # # # # # \n",
      "# # # # # # # # # # # # # # # # # # # # # # # # # # # # # # # \n",
      "# # # # # # # # # # # # # # # # # # # # # # # # # # # # # # # \n",
      "# # # # # # # # # # # # # # # # # # # # # # # # # # # # # # # \n",
      "# # # # # # # # # # # # # # # # # # # # # # # # # # # # # # # \n",
      "# # # # # # # # # # # # # # # # # # # # # # # # # # # # # # # \n",
      "# # # # # # # # # # # # # # # # # # # # # # # # # # # # # # # \n",
      "# # # # # # # # # # # # # # # # # # # # # # # # # # # # # # # \n",
      "# # # # # # # # # # # # # # # # # # # # # # # # # # # # # # # \n",
      "# # # # # # # # # # # # # # # # # # # # # # # # # # # # # # # \n",
      "# # # # # # # # # # # # # # # # # # # # # # # # # # # # # # # \n",
      "# # # # # # # # # # # # # # # # # # # # # # # # # # # # # # # \n",
      "# # # # # # # # # # # # # # # # # # # # # # # # # # # # # # # \n",
      "# # # # # # # # # # # # # # # # # # # # # # # # # # # # # # # \n",
      "# # # # # # # # # # # # # # # # # # # # # # # # # # # # # # # \n",
      "# # # # # # # # # # # # # # # # # # # # # # # # # # # # # # # \n",
      "# # # # # # # # # # # # # # # # # # # # # # # # # # # # # # # \n",
      "# # # # # # # # # # # # # # # # # # # # # # # # # # # # # # # \n",
      "# # # # # # # # # # # # # # # # # # # # # # # # # # # # # # # \n",
      "# # # # # # # # # # # # # # # # # # # # # # # # # # # # # # # \n",
      "# # # # # # # # # # # # # # # # # # # # # # # # # # # # # # # \n",
      "~~~~~~~~~\n",
      "You scored 8 out of 10!\n"
     ]
    }
   ],
   "source": [
    "### from time import sleep\n",
    "import random as rand\n",
    "\n",
    "print(\"Maya's Quiz - Multiplication\")\n",
    "print(\"~~~~~~~~~\")\n",
    "try:\n",
    "    no_qs = int(input(\"How many questions would you like? \"))\n",
    "except:\n",
    "    no_qs = int(input(\"How many questions would you like? \"))\n",
    "score = 0\n",
    "difficulty = 0\n",
    "for x in range(no_qs):\n",
    "    rand1 = rand.randint(1,10 + difficulty)\n",
    "    rand2 = rand.randint(1,5 + difficulty)\n",
    "    q1 = input(f\"Q{x + 1}: What is {rand2} x {rand1}? \")\n",
    "    while q1.isdigit() == False:\n",
    "        q1 = input(f\"Q{x + 1}: What is {rand2} x {rand1}? \")\n",
    "\n",
    "    if int(q1) == rand1 * rand2:\n",
    "        print(\" Correct!\")\n",
    "        score += 1\n",
    "        difficulty = min(98, difficulty + 5)\n",
    "    else:\n",
    "        print(f\"That was incorrect. The answer was {rand1 * rand2}!\")\n",
    "        print(f\"There are {rand1} groups of {rand2}\")\n",
    "        for x in range(rand1):\n",
    "            print('# ' * rand2)\n",
    "            sleep(1)\n",
    "        if difficulty > 0:\n",
    "            difficulty -= 1\n",
    "    \n",
    "print(\"~~~~~~~~~\")\n",
    "print(f\"You scored {score} out of {no_qs}!\")"
   ]
  },
  {
   "cell_type": "code",
   "execution_count": 17,
   "id": "898139f1-73de-49c4-a324-dd0b0c683bf5",
   "metadata": {},
   "outputs": [
    {
     "name": "stdout",
     "output_type": "stream",
     "text": [
      "Maya's Quiz - Division\n",
      "~~~~~~~~~\n"
     ]
    },
    {
     "name": "stdin",
     "output_type": "stream",
     "text": [
      "How many questions would you like?  5\n",
      "Q1: What is 5 ÷ 1?  5\n"
     ]
    },
    {
     "name": "stdout",
     "output_type": "stream",
     "text": [
      " Correct!\n"
     ]
    },
    {
     "name": "stdin",
     "output_type": "stream",
     "text": [
      "Q2: What is 28 ÷ 7?  4\n"
     ]
    },
    {
     "name": "stdout",
     "output_type": "stream",
     "text": [
      " Correct!\n"
     ]
    },
    {
     "name": "stdin",
     "output_type": "stream",
     "text": [
      "Q3: What is 48 ÷ 8?  6\n"
     ]
    },
    {
     "name": "stdout",
     "output_type": "stream",
     "text": [
      " Correct!\n"
     ]
    },
    {
     "name": "stdin",
     "output_type": "stream",
     "text": [
      "Q4: What is 48 ÷ 6?  8\n"
     ]
    },
    {
     "name": "stdout",
     "output_type": "stream",
     "text": [
      " Correct!\n"
     ]
    },
    {
     "name": "stdin",
     "output_type": "stream",
     "text": [
      "Q5: What is 18 ÷ 9?  23\n"
     ]
    },
    {
     "name": "stdout",
     "output_type": "stream",
     "text": [
      "That was incorrect. The answer was 2!\n",
      "~~~~~~~~~\n",
      "You scored 4 out of 5!\n"
     ]
    }
   ],
   "source": [
    "### from time import sleep\n",
    "import random as rand\n",
    "\n",
    "print(\"Maya's Quiz - Division\")\n",
    "print(\"~~~~~~~~~\")\n",
    "try:\n",
    "    no_qs = int(input(\"How many questions would you like? \"))\n",
    "except:\n",
    "    no_qs = int(input(\"How many questions would you like? \"))\n",
    "score = 0\n",
    "difficulty = 0\n",
    "for x in range(no_qs):\n",
    "    divisor = rand.randint(1,5 + difficulty)\n",
    "    quotient = rand.randint(1,5 + difficulty)\n",
    "    dividend = divisor * quotient\n",
    "    \n",
    "    q1 = input(f\"Q{x + 1}: What is {dividend} ÷ {divisor}? \")\n",
    "    while q1.isdigit() == False:\n",
    "        q1 = input(f\"Q{x + 1}: What is {dividend} ÷ {divisor}? \")\n",
    "\n",
    "    if int(q1) == quotient:\n",
    "        print(\" Correct!\")\n",
    "        score += 1\n",
    "        difficulty = min(12, difficulty + 2)\n",
    "    else:\n",
    "        print(f\"That was incorrect. The answer was {quotient}!\")        \n",
    "        if difficulty > 0:\n",
    "            difficulty -= 1\n",
    "    \n",
    "print(\"~~~~~~~~~\")\n",
    "print(f\"You scored {score} out of {no_qs}!\")"
   ]
  },
  {
   "cell_type": "code",
   "execution_count": null,
   "id": "110cfcf2-45e0-4513-83c5-67fb0ec1058f",
   "metadata": {},
   "outputs": [],
   "source": []
  }
 ],
 "metadata": {
  "kernelspec": {
   "display_name": "Python 3 (ipykernel)",
   "language": "python",
   "name": "python3"
  },
  "language_info": {
   "codemirror_mode": {
    "name": "ipython",
    "version": 3
   },
   "file_extension": ".py",
   "mimetype": "text/x-python",
   "name": "python",
   "nbconvert_exporter": "python",
   "pygments_lexer": "ipython3",
   "version": "3.9.7"
  }
 },
 "nbformat": 4,
 "nbformat_minor": 5
}
